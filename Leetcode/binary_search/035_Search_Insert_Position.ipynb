{
 "cells": [
  {
   "cell_type": "markdown",
   "id": "95802869",
   "metadata": {},
   "source": [
    "## Given a sorted array of distinct integers and a target value, return the index if the target is found. \n",
    "## If not, return the index where it would be if it were inserted in order.\n",
    "\n",
    "## You must write an algorithm with O(log n) runtime complexity.\n",
    "\n"
   ]
  },
  {
   "cell_type": "code",
   "execution_count": null,
   "id": "16034b85",
   "metadata": {},
   "outputs": [],
   "source": []
  },
  {
   "cell_type": "code",
   "execution_count": null,
   "id": "4d929109",
   "metadata": {},
   "outputs": [],
   "source": [
    "class Solution:\n",
    "    def searchInsert(self, nums: List[int], target: int) -> int:\n",
    "        \n",
    "        first = 0\n",
    "        last = len(nums) - 1\n",
    "        \n",
    "        while first <= last:\n",
    "            \n",
    "            mid = (first + last) // 2\n",
    "            if target == nums[mid]:\n",
    "                    return mid\n",
    "            elif target > nums[mid]:\n",
    "                first = mid+1\n",
    "            else:\n",
    "                last = mid-1\n",
    "            \n",
    "        \n",
    "        return first"
   ]
  },
  {
   "cell_type": "code",
   "execution_count": null,
   "id": "600d4c23",
   "metadata": {},
   "outputs": [],
   "source": []
  },
  {
   "cell_type": "code",
   "execution_count": null,
   "id": "6c318ed2",
   "metadata": {},
   "outputs": [],
   "source": []
  }
 ],
 "metadata": {
  "kernelspec": {
   "display_name": "Python 3",
   "language": "python",
   "name": "python3"
  },
  "language_info": {
   "codemirror_mode": {
    "name": "ipython",
    "version": 3
   },
   "file_extension": ".py",
   "mimetype": "text/x-python",
   "name": "python",
   "nbconvert_exporter": "python",
   "pygments_lexer": "ipython3",
   "version": "3.8.5"
  }
 },
 "nbformat": 4,
 "nbformat_minor": 5
}
