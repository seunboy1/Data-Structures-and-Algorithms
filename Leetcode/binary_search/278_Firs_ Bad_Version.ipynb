{
 "cells": [
  {
   "cell_type": "markdown",
   "id": "8f2dcc0b",
   "metadata": {},
   "source": [
    "## You are a product manager and currently leading a team to develop a new product. Unfortunately, the latest version of your product fails the quality check. \n",
    "## Since each version is developed based on the previous version, all the versions after a bad version are also bad.\n",
    "\n",
    "## Suppose you have n versions [1, 2, ..., n] and you want to find out the first bad one, which causes all the following ones to be bad.\n",
    "\n",
    "## You are given an API bool isBadVersion(version) which returns whether version is bad. Implement a function to find the first bad version. \n",
    "## You should minimize the number of calls to the API."
   ]
  },
  {
   "cell_type": "code",
   "execution_count": null,
   "id": "8f9bf996",
   "metadata": {},
   "outputs": [],
   "source": [
    "# The isBadVersion API is already defined for you.\n",
    "# @param version, an integer\n",
    "# @return an integer\n",
    "# def isBadVersion(version):\n",
    "\n",
    "class Solution:\n",
    "    def firstBadVersion(self, n):\n",
    "        \"\"\"\n",
    "        :type n: int\n",
    "        :rtype: int\n",
    "        \"\"\"\n",
    "        \n",
    "        f ,l = 0,n - 1\n",
    "            \n",
    "        while f <= l:\n",
    "            mid  =  (f+l) // 2\n",
    "            \n",
    "            if isBadVersion(mid) == False:\n",
    "                f = mid + 1\n",
    "            else:\n",
    "                l = mid - 1\n",
    "        \n",
    "        \n",
    "        return f"
   ]
  },
  {
   "cell_type": "code",
   "execution_count": null,
   "id": "8b788c10",
   "metadata": {},
   "outputs": [],
   "source": []
  }
 ],
 "metadata": {
  "kernelspec": {
   "display_name": "Python 3",
   "language": "python",
   "name": "python3"
  },
  "language_info": {
   "codemirror_mode": {
    "name": "ipython",
    "version": 3
   },
   "file_extension": ".py",
   "mimetype": "text/x-python",
   "name": "python",
   "nbconvert_exporter": "python",
   "pygments_lexer": "ipython3",
   "version": "3.8.5"
  }
 },
 "nbformat": 4,
 "nbformat_minor": 5
}
