{
 "cells": [
  {
   "cell_type": "markdown",
   "id": "86e66f97",
   "metadata": {},
   "source": [
    "#                            Leetcode Question 704"
   ]
  },
  {
   "cell_type": "markdown",
   "id": "3bb88ca1",
   "metadata": {},
   "source": [
    "#### Given an array of integers nums which is sorted in ascending order, and an integer target, write a function to search target in nums. \n",
    "#### If target exists, then return its index. Otherwise, return -1.\n",
    "\n",
    "#### You must write an algorithm with O(log n) runtime complexity."
   ]
  },
  {
   "cell_type": "code",
   "execution_count": null,
   "id": "c227a0f4",
   "metadata": {},
   "outputs": [],
   "source": []
  },
  {
   "cell_type": "code",
   "execution_count": null,
   "id": "c67a4e87",
   "metadata": {},
   "outputs": [],
   "source": [
    "class Solution:\n",
    "    def search(self, nums: List[int], target: int) -> int:\n",
    "                   \n",
    "        first = 0\n",
    "        last = len(nums) - 1\n",
    "        \n",
    "        while first <= last:\n",
    "            \n",
    "            mid = (first+last) // 2\n",
    "            \n",
    "            if target > nums[mid] :\n",
    "                first = mid + 1\n",
    "            \n",
    "            elif target < nums[mid] :\n",
    "                last = mid - 1\n",
    "            \n",
    "            else:\n",
    "                return mid\n",
    "        \n",
    "        return -1"
   ]
  }
 ],
 "metadata": {
  "kernelspec": {
   "display_name": "Python 3",
   "language": "python",
   "name": "python3"
  },
  "language_info": {
   "codemirror_mode": {
    "name": "ipython",
    "version": 3
   },
   "file_extension": ".py",
   "mimetype": "text/x-python",
   "name": "python",
   "nbconvert_exporter": "python",
   "pygments_lexer": "ipython3",
   "version": "3.8.5"
  }
 },
 "nbformat": 4,
 "nbformat_minor": 5
}
