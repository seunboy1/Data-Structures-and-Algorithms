{
 "cells": [
  {
   "cell_type": "code",
   "execution_count": 10,
   "id": "b0d4c32e",
   "metadata": {},
   "outputs": [],
   "source": [
    "def recursive_binary_search(lst, target):\n",
    "    \n",
    "    \"\"\"\n",
    "    Returns the index position of the target if found, else returns None\n",
    "    \"\"\"\n",
    "    if len(lst) == 0:\n",
    "        return False\n",
    "    \n",
    "    elif target == None:\n",
    "        return False\n",
    "    \n",
    "    else:\n",
    "        midpoint = len(lst) // 2\n",
    "\n",
    "        if lst[midpoint] == target:\n",
    "            return True\n",
    "        elif lst[midpoint] < target:\n",
    "            return recursive_binary_search(lst[midpoint+1:], target)\n",
    "        else:\n",
    "            return recursive_binary_search(lst[:midpoint-1], target)\n",
    "        \n",
    "    return None\n",
    "\n",
    "\n",
    "def verify(idx):\n",
    "    print(\"Target Status!!!!!\", idx)\n",
    "    \n",
    "numbers = [1,2,3,4,5,6,7,8,9,10]"
   ]
  },
  {
   "cell_type": "code",
   "execution_count": 12,
   "id": "54779e9a",
   "metadata": {},
   "outputs": [
    {
     "name": "stdout",
     "output_type": "stream",
     "text": [
      "Target Status!!!!! False\n"
     ]
    }
   ],
   "source": [
    "idx =  recursive_binary_search(numbers, 11)\n",
    "verify(idx)"
   ]
  },
  {
   "cell_type": "code",
   "execution_count": null,
   "id": "c14ec2da",
   "metadata": {},
   "outputs": [],
   "source": []
  }
 ],
 "metadata": {
  "kernelspec": {
   "display_name": "Python 3",
   "language": "python",
   "name": "python3"
  },
  "language_info": {
   "codemirror_mode": {
    "name": "ipython",
    "version": 3
   },
   "file_extension": ".py",
   "mimetype": "text/x-python",
   "name": "python",
   "nbconvert_exporter": "python",
   "pygments_lexer": "ipython3",
   "version": "3.8.5"
  }
 },
 "nbformat": 4,
 "nbformat_minor": 5
}
