{
 "cells": [
  {
   "cell_type": "code",
   "execution_count": 53,
   "id": "182346cc",
   "metadata": {},
   "outputs": [],
   "source": [
    "def binary_search(lst, target):\n",
    "    \n",
    "    \"\"\"\n",
    "    Returns the index position of the target if found, else returns None\n",
    "    \"\"\"\n",
    "    \n",
    "    first = 0\n",
    "    last = len(lst) -1\n",
    "    while first <= last:\n",
    "        midpoint = (first+last)//2\n",
    "\n",
    "        if lst[midpoint] == target:\n",
    "            return midpoint\n",
    "        elif lst[midpoint] < target:\n",
    "            first = midpoint + 1\n",
    "        else:\n",
    "            last = midpoint - 1\n",
    "        \n",
    "    return None\n",
    "\n",
    "\n",
    "\n",
    "def calc_mid_val(max_num, min_num):\n",
    "    return int((max_num - min_num)/2)\n",
    "\n",
    "\n",
    "def verify(idx):\n",
    "    if idx is None:\n",
    "        print(\"Target not found!!!!!\")\n",
    "    else:\n",
    "        print(\"Target absolutely found!!!!!\")\n",
    "numbers = [1,2,3,4,5,6,7,8,9,10]"
   ]
  },
  {
   "cell_type": "code",
   "execution_count": 54,
   "id": "198aa7c4",
   "metadata": {},
   "outputs": [
    {
     "name": "stdout",
     "output_type": "stream",
     "text": [
      "Target absolutely found!!!!!\n"
     ]
    }
   ],
   "source": [
    "\n",
    "idx =  binary_search(numbers, 1)\n",
    "verify(idx)"
   ]
  },
  {
   "cell_type": "code",
   "execution_count": null,
   "id": "a0e3ab7e",
   "metadata": {},
   "outputs": [],
   "source": []
  },
  {
   "cell_type": "code",
   "execution_count": null,
   "id": "a5ea614a",
   "metadata": {},
   "outputs": [],
   "source": []
  },
  {
   "cell_type": "code",
   "execution_count": null,
   "id": "93c8d2f4",
   "metadata": {},
   "outputs": [],
   "source": []
  }
 ],
 "metadata": {
  "kernelspec": {
   "display_name": "Python 3",
   "language": "python",
   "name": "python3"
  },
  "language_info": {
   "codemirror_mode": {
    "name": "ipython",
    "version": 3
   },
   "file_extension": ".py",
   "mimetype": "text/x-python",
   "name": "python",
   "nbconvert_exporter": "python",
   "pygments_lexer": "ipython3",
   "version": "3.8.5"
  }
 },
 "nbformat": 4,
 "nbformat_minor": 5
}
