{
 "cells": [
  {
   "cell_type": "code",
   "execution_count": 4,
   "id": "7954d9be",
   "metadata": {},
   "outputs": [],
   "source": [
    "def linear_search(lst, target):\n",
    "    \n",
    "    \"\"\"\n",
    "    Returns the index position of the target if found, else returns None\n",
    "    \"\"\"\n",
    "    for i in range(len(lst)):\n",
    "        if lst[i] == target:\n",
    "            return i\n",
    "    \n",
    "    return None\n",
    "\n",
    "def verify(idx):\n",
    "    if idx is None:\n",
    "        print(\"Target not found!!!!!\")\n",
    "    else:\n",
    "        print(\"Target absolutely found!!!!!\")\n",
    "numbers = [1,2,3,4,5,6,7,8,9,10]"
   ]
  },
  {
   "cell_type": "code",
   "execution_count": 5,
   "id": "3c58c0a3",
   "metadata": {},
   "outputs": [
    {
     "name": "stdout",
     "output_type": "stream",
     "text": [
      "Target not found!!!!!\n"
     ]
    }
   ],
   "source": [
    "idx =  linear_search(numbers, 12)\n",
    "verify(idx)"
   ]
  },
  {
   "cell_type": "code",
   "execution_count": 7,
   "id": "1efa9c52",
   "metadata": {},
   "outputs": [
    {
     "name": "stdout",
     "output_type": "stream",
     "text": [
      "Target absolutely found!!!!!\n"
     ]
    }
   ],
   "source": [
    "idx =  linear_search(numbers, 8)\n",
    "verify(idx)"
   ]
  },
  {
   "cell_type": "code",
   "execution_count": null,
   "id": "814b06a8",
   "metadata": {},
   "outputs": [],
   "source": []
  }
 ],
 "metadata": {
  "kernelspec": {
   "display_name": "Python 3",
   "language": "python",
   "name": "python3"
  },
  "language_info": {
   "codemirror_mode": {
    "name": "ipython",
    "version": 3
   },
   "file_extension": ".py",
   "mimetype": "text/x-python",
   "name": "python",
   "nbconvert_exporter": "python",
   "pygments_lexer": "ipython3",
   "version": "3.8.5"
  }
 },
 "nbformat": 4,
 "nbformat_minor": 5
}
