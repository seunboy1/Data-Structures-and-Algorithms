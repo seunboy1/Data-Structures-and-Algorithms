{
 "cells": [
  {
   "cell_type": "markdown",
   "id": "dd267fff",
   "metadata": {},
   "source": [
    "## Implement fibonacci recursively, dynamically, and iteratively."
   ]
  },
  {
   "cell_type": "code",
   "execution_count": 16,
   "id": "36f27b72",
   "metadata": {},
   "outputs": [],
   "source": [
    "class Math(object):\n",
    "\n",
    "    def fib_iterative(self, n):\n",
    "        if n < 2: return n\n",
    "        first, second = 0, 1\n",
    "        for i in range(2, n+1):\n",
    "            result = first + second\n",
    "            first = second\n",
    "            second = result\n",
    "            \n",
    "        return result\n",
    "\n",
    "    def fib_recursive(self, n):\n",
    "        if n<2: return n\n",
    "        return self.fib_recursive(n-1) + self.fib_recursive(n-2)\n",
    "    \n",
    "    def fib_dynamic(self, n):\n",
    "        \"\"\"\n",
    "            This includes memoization\n",
    "        \"\"\"\n",
    "        if n<2: return n\n",
    "        memo = {}\n",
    "        if n not in memo:\n",
    "            memo[n] = self.fib_recursive(n-1) + self.fib_recursive(n-2)\n",
    "        return memo[n] \n"
   ]
  },
  {
   "cell_type": "code",
   "execution_count": 17,
   "id": "c19ba470",
   "metadata": {},
   "outputs": [],
   "source": [
    "import unittest\n",
    "\n",
    "class TestFib(unittest.TestCase):\n",
    "    def setUp(self):\n",
    "        self.math = Math()\n",
    "    def test_fib_recursive_works(self):\n",
    "        result = []\n",
    "        expected = [0, 1, 1, 2, 3, 5, 8, 13, 21, 34]\n",
    "        for i in range(len(expected)):\n",
    "            result.append(self.math.fib_recursive(i))\n",
    "        self.assertEqual(result, expected)\n",
    "        \n",
    "    def test_fib_iterative_works(self):\n",
    "        result = []\n",
    "        expected = [0, 1, 1, 2, 3, 5, 8, 13, 21, 34]\n",
    "        for i in range(len(expected)):\n",
    "            result.append(self.math.fib_iterative(i))\n",
    "        self.assertEqual(result, expected)"
   ]
  },
  {
   "cell_type": "code",
   "execution_count": 18,
   "id": "9f337374",
   "metadata": {
    "collapsed": true,
    "jupyter": {
     "outputs_hidden": true
    }
   },
   "outputs": [
    {
     "name": "stderr",
     "output_type": "stream",
     "text": [
      "test_fib_iterative_works (__main__.TestFib) ... ok\n",
      "test_fib_recursive_works (__main__.TestFib) ... ok\n",
      "\n",
      "----------------------------------------------------------------------\n",
      "Ran 2 tests in 0.001s\n",
      "\n",
      "OK\n"
     ]
    },
    {
     "data": {
      "text/plain": [
       "<unittest.main.TestProgram at 0x7fc4b44a21c0>"
      ]
     },
     "execution_count": 18,
     "metadata": {},
     "output_type": "execute_result"
    }
   ],
   "source": [
    "unittest.main(argv=[''], verbosity=2, exit=False)"
   ]
  }
 ],
 "metadata": {
  "kernelspec": {
   "display_name": "Python 3",
   "language": "python",
   "name": "python3"
  },
  "language_info": {
   "codemirror_mode": {
    "name": "ipython",
    "version": 3
   },
   "file_extension": ".py",
   "mimetype": "text/x-python",
   "name": "python",
   "nbconvert_exporter": "python",
   "pygments_lexer": "ipython3",
   "version": "3.8.5"
  }
 },
 "nbformat": 4,
 "nbformat_minor": 5
}
