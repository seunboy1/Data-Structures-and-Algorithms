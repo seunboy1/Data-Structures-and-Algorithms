{
 "cells": [
  {
   "cell_type": "code",
   "execution_count": 23,
   "id": "e42b1990",
   "metadata": {},
   "outputs": [],
   "source": [
    "def palindrome(word):\n",
    "    lt = len(word)\n",
    "    for i in range(lt):\n",
    "        if word[i] != word[lt-1-i]:\n",
    "            return False\n",
    "    \n",
    "    return True\n",
    "\n",
    "def recursive_palindrome(word):\n",
    "    lent = len(word)\n",
    "    \n",
    "    # base case\n",
    "    if lent == 0 or lent == 1:\n",
    "        return True\n",
    "    \n",
    "    # recursive case\n",
    "    elif word[0] == word[lent -1]:\n",
    "        return recursive_palindrome(word[1:-1])\n",
    "    else:\n",
    "        return False"
   ]
  },
  {
   "cell_type": "code",
   "execution_count": 21,
   "id": "b5ca5fe7",
   "metadata": {},
   "outputs": [],
   "source": [
    "import unittest\n",
    "\n",
    "class MyTest(unittest.TestCase):\n",
    "    def test_palindrome(self):\n",
    "        self.assertEqual(palindrome(\"boob\"), True)\n",
    "        self.assertEqual(palindrome(\"a\"), True)\n",
    "        self.assertEqual(palindrome(\"dabble\"), False)\n",
    "        self.assertEqual(palindrome(\"rotor\"), True)\n",
    "        self.assertEqual(palindrome(\"bad\"), False)\n",
    "        self.assertEqual(palindrome(\"line\"), False)\n",
    "        \n",
    "    def test_palindrome(self):\n",
    "        self.assertEqual(recursive_palindrome(\"boob\"), True)\n",
    "        self.assertEqual(recursive_palindrome(\"a\"), True)\n",
    "        self.assertEqual(recursive_palindrome(\"dabble\"), False)\n",
    "        self.assertEqual(recursive_palindrome(\"rotor\"), True)\n",
    "        self.assertEqual(recursive_palindrome(\"bad\"), False)\n",
    "        self.assertEqual(recursive_palindrome(\"line\"), False)"
   ]
  },
  {
   "cell_type": "code",
   "execution_count": 22,
   "id": "78f80a67",
   "metadata": {},
   "outputs": [
    {
     "name": "stderr",
     "output_type": "stream",
     "text": [
      "test_palindrome (__main__.MyTest) ... ok\n",
      "\n",
      "----------------------------------------------------------------------\n",
      "Ran 1 test in 0.001s\n",
      "\n",
      "OK\n"
     ]
    },
    {
     "data": {
      "text/plain": [
       "<unittest.main.TestProgram at 0x7f3c54641ee0>"
      ]
     },
     "execution_count": 22,
     "metadata": {},
     "output_type": "execute_result"
    }
   ],
   "source": [
    "unittest.main(argv=[''], verbosity=2, exit=False)"
   ]
  }
 ],
 "metadata": {
  "kernelspec": {
   "display_name": "Python 3",
   "language": "python",
   "name": "python3"
  },
  "language_info": {
   "codemirror_mode": {
    "name": "ipython",
    "version": 3
   },
   "file_extension": ".py",
   "mimetype": "text/x-python",
   "name": "python",
   "nbconvert_exporter": "python",
   "pygments_lexer": "ipython3",
   "version": "3.8.5"
  }
 },
 "nbformat": 4,
 "nbformat_minor": 5
}
