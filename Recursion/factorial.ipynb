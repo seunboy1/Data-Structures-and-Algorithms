{
 "cells": [
  {
   "cell_type": "code",
   "execution_count": 3,
   "id": "af210112",
   "metadata": {},
   "outputs": [],
   "source": [
    "def factorial(num):\n",
    "    if num == 0: return 1\n",
    "    \n",
    "    total = 1\n",
    "    for i in range(num):\n",
    "        total  = total * (i+1)\n",
    "    \n",
    "    return total\n",
    "    \n"
   ]
  },
  {
   "cell_type": "code",
   "execution_count": 4,
   "id": "9a7f69c1",
   "metadata": {},
   "outputs": [],
   "source": [
    "def recursive_factorial(n):\n",
    "    \n",
    "    # base case\n",
    "    if n == 0: return 1\n",
    "    \n",
    "    # recursive case\n",
    "    return n * recursive_factorial(n-1)"
   ]
  },
  {
   "cell_type": "code",
   "execution_count": 5,
   "id": "abb5dc3f",
   "metadata": {},
   "outputs": [],
   "source": [
    "# computing factorials using memoization\n",
    "\n",
    "factorial_memo = {}\n",
    "def memo_recursive_factorial(n):\n",
    "    if n == 0: return 1\n",
    "    if n not in factorial_memo:\n",
    "        factorial_memo[n] = n * factorial(n-1)\n",
    "    return factorial_memo[n]\n"
   ]
  },
  {
   "cell_type": "code",
   "execution_count": 8,
   "id": "dc34387f",
   "metadata": {},
   "outputs": [],
   "source": [
    "import unittest\n",
    "\n",
    "class MyTest(unittest.TestCase):\n",
    "    \n",
    "    def test_factorial_works(self):\n",
    "        self.assertEqual(factorial(0), 1)\n",
    "        \n",
    "        self.assertEqual(factorial(5), 120)\n",
    "        \n",
    "    def test_recursive_factorial_works(self):\n",
    "        self.assertEqual(recursive_factorial(0), 1)\n",
    "        \n",
    "        self.assertEqual(recursive_factorial(5), 120)\n",
    "    \n",
    "    def test_memo_recursive_factorial_works(self):\n",
    "        self.assertEqual(recursive_factorial(3), 6)\n",
    "        \n",
    "        self.assertEqual(recursive_factorial(5), 120)"
   ]
  },
  {
   "cell_type": "code",
   "execution_count": 9,
   "id": "704e6e9f",
   "metadata": {},
   "outputs": [
    {
     "name": "stderr",
     "output_type": "stream",
     "text": [
      "test_factorial_works (__main__.MyTest) ... ok\n",
      "test_memo_recursive_factorial_works (__main__.MyTest) ... ok\n",
      "test_recursive_factorial_works (__main__.MyTest) ... ok\n",
      "\n",
      "----------------------------------------------------------------------\n",
      "Ran 3 tests in 0.008s\n",
      "\n",
      "OK\n"
     ]
    },
    {
     "data": {
      "text/plain": [
       "<unittest.main.TestProgram at 0x7f7d58ef3c40>"
      ]
     },
     "execution_count": 9,
     "metadata": {},
     "output_type": "execute_result"
    }
   ],
   "source": [
    "unittest.main(argv=[''], verbosity=2, exit=False)"
   ]
  },
  {
   "cell_type": "code",
   "execution_count": null,
   "id": "9435cd12",
   "metadata": {},
   "outputs": [],
   "source": []
  }
 ],
 "metadata": {
  "kernelspec": {
   "display_name": "Python 3",
   "language": "python",
   "name": "python3"
  },
  "language_info": {
   "codemirror_mode": {
    "name": "ipython",
    "version": 3
   },
   "file_extension": ".py",
   "mimetype": "text/x-python",
   "name": "python",
   "nbconvert_exporter": "python",
   "pygments_lexer": "ipython3",
   "version": "3.8.5"
  }
 },
 "nbformat": 4,
 "nbformat_minor": 5
}
