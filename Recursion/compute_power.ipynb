{
 "cells": [
  {
   "cell_type": "code",
   "execution_count": 34,
   "id": "c71845e3",
   "metadata": {},
   "outputs": [],
   "source": [
    "def recursive_power(exp, poww):\n",
    "    #base case\n",
    "    if poww == 0:\n",
    "        return 1\n",
    "    elif poww < 0:\n",
    "        poww = -(poww)\n",
    "        return 1/(exp) * 1/(power(exp, poww-1))\n",
    "    # recursive case\n",
    "    return exp * power(exp, poww-1)"
   ]
  },
  {
   "cell_type": "code",
   "execution_count": 35,
   "id": "cad95a57",
   "metadata": {},
   "outputs": [],
   "source": [
    "import unittest\n",
    "\n",
    "class MyTest(unittest.TestCase):   \n",
    "    \n",
    "    def test_power_works(self):\n",
    "        self.assertEqual(recursive_power(2,-4), 0.0625)\n",
    "        self.assertEqual(recursive_power(10,(1/2)), 10000)\n",
    "        self.assertEqual(recursive_power(5,2), 25)\n",
    "        self.assertEqual(recursive_power(3,3), 27)"
   ]
  },
  {
   "cell_type": "code",
   "execution_count": 36,
   "id": "737be161",
   "metadata": {},
   "outputs": [
    {
     "name": "stderr",
     "output_type": "stream",
     "text": [
      "test_power_works (__main__.MyTest) ... ok\n",
      "\n",
      "----------------------------------------------------------------------\n",
      "Ran 1 test in 0.001s\n",
      "\n",
      "OK\n"
     ]
    },
    {
     "data": {
      "text/plain": [
       "<unittest.main.TestProgram at 0x7f8a3576e3d0>"
      ]
     },
     "execution_count": 36,
     "metadata": {},
     "output_type": "execute_result"
    }
   ],
   "source": [
    "unittest.main(argv=[''], verbosity=2, exit=False)"
   ]
  }
 ],
 "metadata": {
  "kernelspec": {
   "display_name": "Python 3",
   "language": "python",
   "name": "python3"
  },
  "language_info": {
   "codemirror_mode": {
    "name": "ipython",
    "version": 3
   },
   "file_extension": ".py",
   "mimetype": "text/x-python",
   "name": "python",
   "nbconvert_exporter": "python",
   "pygments_lexer": "ipython3",
   "version": "3.8.5"
  }
 },
 "nbformat": 4,
 "nbformat_minor": 5
}
