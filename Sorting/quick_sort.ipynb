{
 "cells": [
  {
   "cell_type": "markdown",
   "id": "3e0b313c",
   "metadata": {},
   "source": [
    "## Implement a Quick sort algorithm"
   ]
  },
  {
   "cell_type": "code",
   "execution_count": null,
   "id": "913ef459",
   "metadata": {},
   "outputs": [],
   "source": []
  },
  {
   "cell_type": "code",
   "execution_count": 16,
   "id": "5caff49b",
   "metadata": {},
   "outputs": [],
   "source": [
    "def quick_sort(lst):\n",
    "    if len(lst) < 2:\n",
    "        return lst\n",
    "    \n",
    "    pivot = lst[0]\n",
    "    less_than = []\n",
    "    greater_than = []\n",
    "    \n",
    "    for i in lst[1:]:\n",
    "        if i <= pivot:\n",
    "            less_than.append(i)\n",
    "        else:\n",
    "            greater_than.append(i)\n",
    "    \n",
    "    less_than = quick_sort(less_than)\n",
    "    greater_than = quick_sort(greater_than)\n",
    "    \n",
    "    return less_than + [pivot] + greater_than\n",
    "    "
   ]
  }
 ],
 "metadata": {
  "kernelspec": {
   "display_name": "Python 3",
   "language": "python",
   "name": "python3"
  },
  "language_info": {
   "codemirror_mode": {
    "name": "ipython",
    "version": 3
   },
   "file_extension": ".py",
   "mimetype": "text/x-python",
   "name": "python",
   "nbconvert_exporter": "python",
   "pygments_lexer": "ipython3",
   "version": "3.8.5"
  }
 },
 "nbformat": 4,
 "nbformat_minor": 5
}
