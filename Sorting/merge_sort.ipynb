{
 "cells": [
  {
   "cell_type": "markdown",
   "id": "9b2cd9a3",
   "metadata": {},
   "source": [
    "#  Implement merge sort."
   ]
  },
  {
   "cell_type": "code",
   "execution_count": 42,
   "id": "2c2f2b1c",
   "metadata": {},
   "outputs": [],
   "source": [
    "def merge_sort(lst):\n",
    "    \"\"\"\n",
    "    Sorts a list in ascending order\n",
    "    Retuns a new sorted list\n",
    "    \n",
    "    Takes an overall O(n log  n)\n",
    "    \"\"\"\n",
    "    \n",
    "    # base case\n",
    "    if len(lst) <= 1:\n",
    "        return lst\n",
    "    \n",
    "    # takes overal O(log n) time\n",
    "    mid = len(lst) // 2\n",
    "    \n",
    "    left_half, right_half = lst[:mid], lst[mid:]\n",
    "    \n",
    "    left = merge_sort(left_half)\n",
    "    right = merge_sort(right_half)\n",
    "    return merge(left, right)\n",
    "    \n",
    "\n",
    "def merge(left, right):\n",
    "    \"\"\"\n",
    "    Merrges two lists arrays, sorting them in the process\n",
    "    Returns a new merged list\n",
    "    \n",
    "    Runs in O(n) time\n",
    "    \"\"\"\n",
    "    \n",
    "    lst = []\n",
    "    i, j = 0, 0\n",
    "    while i < len(left) and j < len(right):\n",
    "        if left[i] < right[j]:\n",
    "            lst.append(left[i])\n",
    "            i += 1\n",
    "        else:\n",
    "            lst.append(right[j])\n",
    "            j += 1\n",
    "    \n",
    "    lst += left[i:]\n",
    "    lst += right[j:]\n",
    "\n",
    "        \n",
    "    return lst\n",
    "\n",
    "def verify_sorted(lst):\n",
    "    \n",
    "    if len(lst)<2:\n",
    "        return True\n",
    "    \n",
    "    if lst[0] < lst[1]:\n",
    "        return verify_sorted(lst[1:])\n",
    "    \n",
    "    return False"
   ]
  },
  {
   "cell_type": "code",
   "execution_count": 51,
   "id": "6e530104",
   "metadata": {},
   "outputs": [],
   "source": [
    "import unittest\n",
    "\n",
    "class TestLink(unittest.TestCase):\n",
    "        \n",
    "    def test_merge_sort(self):\n",
    "        self.assertEqual(merge_sort([]), [])\n",
    "        self.assertEqual(merge_sort([1]), [1])\n",
    "        self.assertEqual(merge_sort([1, 6,0,3,4,78,90,45]), [0,1,3,4,6,45,78,90])\n",
    "        \n",
    "    def test_verify_sorted(self):\n",
    "        lst1 = merge_sort([])\n",
    "        self.assertEqual(verify_sorted(lst1), True)\n",
    "        \n",
    "        lst2 = merge_sort([1])\n",
    "        self.assertEqual(verify_sorted(lst2), True)\n",
    "        self.assertEqual(verify_sorted([1, 6,0,3,4,78,90,45]),False)"
   ]
  },
  {
   "cell_type": "code",
   "execution_count": null,
   "id": "06d9ff55",
   "metadata": {},
   "outputs": [],
   "source": [
    "unittest.main(argv=[''], verbosity=2, exit=False)"
   ]
  }
 ],
 "metadata": {
  "kernelspec": {
   "display_name": "Python 3",
   "language": "python",
   "name": "python3"
  },
  "language_info": {
   "codemirror_mode": {
    "name": "ipython",
    "version": 3
   },
   "file_extension": ".py",
   "mimetype": "text/x-python",
   "name": "python",
   "nbconvert_exporter": "python",
   "pygments_lexer": "ipython3",
   "version": "3.8.5"
  }
 },
 "nbformat": 4,
 "nbformat_minor": 5
}
